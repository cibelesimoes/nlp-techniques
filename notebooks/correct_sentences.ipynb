{
 "cells": [
  {
   "cell_type": "code",
   "execution_count": 1,
   "metadata": {},
   "outputs": [
    {
     "name": "stdout",
     "output_type": "stream",
     "text": [
      "Defaulting to user installation because normal site-packages is not writeable\n",
      "Requirement already satisfied: enelvo in /home/kunumi/.local/lib/python3.10/site-packages (0.15)\n",
      "Requirement already satisfied: editdistance>=0.6.0 in /home/kunumi/.local/lib/python3.10/site-packages (from enelvo) (0.6.2)\n",
      "Requirement already satisfied: emoji==2.2.0 in /home/kunumi/.local/lib/python3.10/site-packages (from enelvo) (2.2.0)\n",
      "Requirement already satisfied: gensim>=4.1.2 in /home/kunumi/.local/lib/python3.10/site-packages (from enelvo) (4.3.1)\n",
      "Requirement already satisfied: numpy>=1.19.5 in /home/kunumi/.local/lib/python3.10/site-packages (from enelvo) (1.23.5)\n",
      "Requirement already satisfied: tabulate>=0.8.9 in /home/kunumi/.local/lib/python3.10/site-packages (from enelvo) (0.9.0)\n",
      "Requirement already satisfied: scipy>=1.7.0 in /home/kunumi/.local/lib/python3.10/site-packages (from gensim>=4.1.2->enelvo) (1.10.1)\n",
      "Requirement already satisfied: smart-open>=1.8.1 in /home/kunumi/.local/lib/python3.10/site-packages (from gensim>=4.1.2->enelvo) (6.3.0)\n",
      "\n",
      "\u001b[1m[\u001b[0m\u001b[34;49mnotice\u001b[0m\u001b[1;39;49m]\u001b[0m\u001b[39;49m A new release of pip is available: \u001b[0m\u001b[31;49m23.1.2\u001b[0m\u001b[39;49m -> \u001b[0m\u001b[32;49m23.2.1\u001b[0m\n",
      "\u001b[1m[\u001b[0m\u001b[34;49mnotice\u001b[0m\u001b[1;39;49m]\u001b[0m\u001b[39;49m To update, run: \u001b[0m\u001b[32;49mpip install --upgrade pip\u001b[0m\n"
     ]
    }
   ],
   "source": [
    "!pip install enelvo"
   ]
  },
  {
   "cell_type": "code",
   "execution_count": 2,
   "metadata": {},
   "outputs": [],
   "source": [
    "# importando\n",
    "from enelvo.normaliser import Normaliser\n",
    "\n",
    "# instanciando\n",
    "norm = Normaliser(tokenizer='readable')"
   ]
  },
  {
   "cell_type": "code",
   "execution_count": 3,
   "metadata": {},
   "outputs": [
    {
     "data": {
      "text/plain": [
       "'até hoje você não me respondeu . o que aconteceu ?'"
      ]
     },
     "execution_count": 3,
     "metadata": {},
     "output_type": "execute_result"
    }
   ],
   "source": [
    "msg = 'Até hj vc n me respondeu. Oq aconteceu?'\n",
    "resposta = norm.normalise(msg)\n",
    "resposta"
   ]
  },
  {
   "cell_type": "code",
   "execution_count": null,
   "metadata": {},
   "outputs": [],
   "source": []
  }
 ],
 "metadata": {
  "kernelspec": {
   "display_name": "Python 3",
   "language": "python",
   "name": "python3"
  },
  "language_info": {
   "codemirror_mode": {
    "name": "ipython",
    "version": 3
   },
   "file_extension": ".py",
   "mimetype": "text/x-python",
   "name": "python",
   "nbconvert_exporter": "python",
   "pygments_lexer": "ipython3",
   "version": "3.10.6"
  },
  "orig_nbformat": 4
 },
 "nbformat": 4,
 "nbformat_minor": 2
}
