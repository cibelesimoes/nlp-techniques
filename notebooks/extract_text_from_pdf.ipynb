{
 "cells": [
  {
   "attachments": {},
   "cell_type": "markdown",
   "id": "8f2a3750",
   "metadata": {},
   "source": [
    "### Importação das Bibliotecas"
   ]
  },
  {
   "cell_type": "code",
   "execution_count": 1,
   "id": "7aea44d0",
   "metadata": {},
   "outputs": [],
   "source": [
    "import os\n",
    "import pandas as pd\n",
    "from pathlib import Path\n",
    "from pypdf import PdfReader"
   ]
  },
  {
   "attachments": {},
   "cell_type": "markdown",
   "id": "9f6d4856",
   "metadata": {},
   "source": [
    "### Definição de parâmetros"
   ]
  },
  {
   "cell_type": "code",
   "execution_count": 2,
   "id": "b5b2880e",
   "metadata": {},
   "outputs": [],
   "source": [
    "pd.set_option('display.max_colwidth', None)"
   ]
  },
  {
   "cell_type": "code",
   "execution_count": 3,
   "id": "bba91cba",
   "metadata": {},
   "outputs": [],
   "source": [
    "directory = Path(os.path.dirname(os.getcwd()))\n",
    "\n",
    "dir_files_pdf = (directory / \"data/01_raw/\")\n",
    "dir_file_export = (directory / \"data/02_intermediate/df_beyonce_concat_raw.xlsx\")"
   ]
  },
  {
   "attachments": {},
   "cell_type": "markdown",
   "id": "2319f23c",
   "metadata": {},
   "source": [
    "### Importação de dados"
   ]
  },
  {
   "cell_type": "code",
   "execution_count": 4,
   "id": "648324b7",
   "metadata": {},
   "outputs": [
    {
     "name": "stdout",
     "output_type": "stream",
     "text": [
      "/home/kunumi/repos/nlp-techniques/data/01_raw/beyonce_wikipedia.pdf\n",
      "/home/kunumi/repos/nlp-techniques/data/01_raw/Biografia da Beyoncé conheça a trajetória da diva pop.pdf\n",
      "/home/kunumi/repos/nlp-techniques/data/01_raw/Biografia de Beyoncé - eBiografia.pdf\n"
     ]
    }
   ],
   "source": [
    "arquivos = []\n",
    "text = \"\"\n",
    "\n",
    "for _, _, arquivo in os.walk(dir_files_pdf):\n",
    "    arquivos.append(arquivo)\n",
    "\n",
    "arquivos = arquivos[0]\n",
    "\n",
    "for pdf_file in arquivos:\n",
    "    pdf_file = (dir_files_pdf / pdf_file)\n",
    "    print(pdf_file)\n",
    "    reader = PdfReader(pdf_file)\n",
    "    for page in reader.pages:\n",
    "        text += page.extract_text() + \"\\n\""
   ]
  },
  {
   "cell_type": "code",
   "execution_count": 5,
   "id": "11875911",
   "metadata": {},
   "outputs": [],
   "source": [
    "data_list = text.split(\"\\n\")\n",
    "df = pd.DataFrame(data_list, columns=[\"Text\"])\n",
    "\n",
    "df.reset_index(drop=True, inplace=True)"
   ]
  },
  {
   "attachments": {},
   "cell_type": "markdown",
   "id": "065f0c43",
   "metadata": {},
   "source": [
    "### Exportação dos Dados"
   ]
  },
  {
   "cell_type": "code",
   "execution_count": 8,
   "id": "ec7444b4",
   "metadata": {},
   "outputs": [
    {
     "data": {
      "text/html": [
       "<div>\n",
       "<style scoped>\n",
       "    .dataframe tbody tr th:only-of-type {\n",
       "        vertical-align: middle;\n",
       "    }\n",
       "\n",
       "    .dataframe tbody tr th {\n",
       "        vertical-align: top;\n",
       "    }\n",
       "\n",
       "    .dataframe thead th {\n",
       "        text-align: right;\n",
       "    }\n",
       "</style>\n",
       "<table border=\"1\" class=\"dataframe\">\n",
       "  <thead>\n",
       "    <tr style=\"text-align: right;\">\n",
       "      <th></th>\n",
       "      <th>Text</th>\n",
       "    </tr>\n",
       "  </thead>\n",
       "  <tbody>\n",
       "    <tr>\n",
       "      <th>0</th>\n",
       "      <td>Beyoncé</td>\n",
       "    </tr>\n",
       "    <tr>\n",
       "      <th>1</th>\n",
       "      <td>Beyoncé em 2023</td>\n",
       "    </tr>\n",
       "    <tr>\n",
       "      <th>2</th>\n",
       "      <td>Nome</td>\n",
       "    </tr>\n",
       "    <tr>\n",
       "      <th>3</th>\n",
       "      <td>completoBeyoncé Giselle</td>\n",
       "    </tr>\n",
       "    <tr>\n",
       "      <th>4</th>\n",
       "      <td>Knowles</td>\n",
       "    </tr>\n",
       "    <tr>\n",
       "      <th>...</th>\n",
       "      <td>...</td>\n",
       "    </tr>\n",
       "    <tr>\n",
       "      <th>2231</th>\n",
       "      <td>acordo com nossa Política de Cookies. Ler mais</td>\n",
       "    </tr>\n",
       "    <tr>\n",
       "      <th>2232</th>\n",
       "      <td>MOSTRAR DETALHES</td>\n",
       "    </tr>\n",
       "    <tr>\n",
       "      <th>2233</th>\n",
       "      <td>×Biograﬁa de Beyoncé - eBiograﬁa https://www.ebiograﬁa.com/beyonce/</td>\n",
       "    </tr>\n",
       "    <tr>\n",
       "      <th>2234</th>\n",
       "      <td>6 of 6 28/07/2023, 16:35</td>\n",
       "    </tr>\n",
       "    <tr>\n",
       "      <th>2235</th>\n",
       "      <td></td>\n",
       "    </tr>\n",
       "  </tbody>\n",
       "</table>\n",
       "<p>2236 rows × 1 columns</p>\n",
       "</div>"
      ],
      "text/plain": [
       "                                                                     Text\n",
       "0                                                                 Beyoncé\n",
       "1                                                         Beyoncé em 2023\n",
       "2                                                                    Nome\n",
       "3                                                 completoBeyoncé Giselle\n",
       "4                                                                 Knowles\n",
       "...                                                                   ...\n",
       "2231                       acordo com nossa Política de Cookies. Ler mais\n",
       "2232                                                     MOSTRAR DETALHES\n",
       "2233  ×Biograﬁa de Beyoncé - eBiograﬁa https://www.ebiograﬁa.com/beyonce/\n",
       "2234                                             6 of 6 28/07/2023, 16:35\n",
       "2235                                                                     \n",
       "\n",
       "[2236 rows x 1 columns]"
      ]
     },
     "execution_count": 8,
     "metadata": {},
     "output_type": "execute_result"
    }
   ],
   "source": [
    "df"
   ]
  },
  {
   "cell_type": "code",
   "execution_count": 9,
   "id": "1bc55993",
   "metadata": {},
   "outputs": [],
   "source": [
    "df.to_excel(dir_file_export, index=None)"
   ]
  }
 ],
 "metadata": {
  "kernelspec": {
   "display_name": "Python 3 (ipykernel)",
   "language": "python",
   "name": "python3"
  },
  "language_info": {
   "codemirror_mode": {
    "name": "ipython",
    "version": 3
   },
   "file_extension": ".py",
   "mimetype": "text/x-python",
   "name": "python",
   "nbconvert_exporter": "python",
   "pygments_lexer": "ipython3",
   "version": "3.10.6"
  }
 },
 "nbformat": 4,
 "nbformat_minor": 5
}
